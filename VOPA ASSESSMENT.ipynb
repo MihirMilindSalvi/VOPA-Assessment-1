{
 "cells": [
  {
   "cell_type": "code",
   "execution_count": 1,
   "id": "d5646ee3-f50c-4a48-a220-63481a2710ab",
   "metadata": {},
   "outputs": [],
   "source": [
    "# 1. Assign a lesson to a student (Teacher action)\n",
    "\n",
    "#POST /api/assignments"
   ]
  },
  {
   "cell_type": "code",
   "execution_count": null,
   "id": "688b9b35-35b0-4024-a6d0-d6e5ab486a84",
   "metadata": {},
   "outputs": [],
   "source": [
    "#Request Body (JSON):"
   ]
  },
  {
   "cell_type": "code",
   "execution_count": 10,
   "id": "97016851-a8a2-401b-81ec-8411ffffadde",
   "metadata": {},
   "outputs": [
    {
     "data": {
      "text/plain": [
       "{'teacher_id': 'T123', 'student_id': 'S456', 'lesson_id': 'L789'}"
      ]
     },
     "execution_count": 10,
     "metadata": {},
     "output_type": "execute_result"
    }
   ],
   "source": [
    "\n",
    "{\n",
    "  \"teacher_id\": \"T123\",\n",
    "  \"student_id\": \"S456\",\n",
    "  \"lesson_id\": \"L789\"\n",
    "}\n"
   ]
  },
  {
   "cell_type": "code",
   "execution_count": null,
   "id": "07554fac-ee02-4326-9cef-4bfa6dc67743",
   "metadata": {},
   "outputs": [],
   "source": [
    "#Response Body (JSON):"
   ]
  },
  {
   "cell_type": "code",
   "execution_count": 11,
   "id": "0566c42c-4be1-4ffe-8b84-f3dee54dda19",
   "metadata": {},
   "outputs": [
    {
     "data": {
      "text/plain": [
       "{'assignment_id': 'A001',\n",
       " 'teacher_id': 'T123',\n",
       " 'student_id': 'S456',\n",
       " 'lesson_id': 'L789',\n",
       " 'status': 'assigned',\n",
       " 'assigned_at': '2025-08-20T10:00:00Z'}"
      ]
     },
     "execution_count": 11,
     "metadata": {},
     "output_type": "execute_result"
    }
   ],
   "source": [
    "{\n",
    "  \"assignment_id\": \"A001\",\n",
    "  \"teacher_id\": \"T123\",\n",
    "  \"student_id\": \"S456\",\n",
    "  \"lesson_id\": \"L789\",\n",
    "  \"status\": \"assigned\",\n",
    "  \"assigned_at\": \"2025-08-20T10:00:00Z\"\n",
    "}"
   ]
  },
  {
   "cell_type": "code",
   "execution_count": null,
   "id": "5c33f831-f4d1-4260-9864-19fcb79c031a",
   "metadata": {},
   "outputs": [],
   "source": [
    "# 2.Student views their assigned, incomplete lessons\n",
    "\n",
    "#GET /api/students/{student_id}/assignments?status=incomplete\n",
    "\n",
    "#Response Body:"
   ]
  },
  {
   "cell_type": "code",
   "execution_count": 12,
   "id": "df818f24-c3e9-49d7-9c78-76984ea6301b",
   "metadata": {},
   "outputs": [
    {
     "data": {
      "text/plain": [
       "[{'assignment_id': 'A001',\n",
       "  'lesson_id': 'L789',\n",
       "  'lesson_title': 'Introduction to Fractions',\n",
       "  'status': 'incomplete'}]"
      ]
     },
     "execution_count": 12,
     "metadata": {},
     "output_type": "execute_result"
    }
   ],
   "source": [
    "[\n",
    "  {\n",
    "    \"assignment_id\": \"A001\",\n",
    "    \"lesson_id\": \"L789\",\n",
    "    \"lesson_title\": \"Introduction to Fractions\",\n",
    "    \"status\": \"incomplete\"\n",
    "  }\n",
    "]"
   ]
  },
  {
   "cell_type": "code",
   "execution_count": null,
   "id": "0944ef09-44de-436d-9fe4-49215e60a27a",
   "metadata": {},
   "outputs": [],
   "source": [
    "# 3.Student marks a lesson as complete\n",
    "\n",
    "#PATCH /api/assignments/{assignment_id}/complete\n",
    "\n",
    "#Response Body:"
   ]
  },
  {
   "cell_type": "code",
   "execution_count": 13,
   "id": "25e11d23-0451-49ec-b151-c1a16c1ccb41",
   "metadata": {},
   "outputs": [
    {
     "data": {
      "text/plain": [
       "{'assignment_id': 'A001',\n",
       " 'lesson_id': 'L789',\n",
       " 'status': 'completed',\n",
       " 'completed_at': '2025-08-20T11:15:00Z'}"
      ]
     },
     "execution_count": 13,
     "metadata": {},
     "output_type": "execute_result"
    }
   ],
   "source": [
    "{\n",
    "  \"assignment_id\": \"A001\",\n",
    "  \"lesson_id\": \"L789\",\n",
    "  \"status\": \"completed\",\n",
    "  \"completed_at\": \"2025-08-20T11:15:00Z\"\n",
    "}"
   ]
  },
  {
   "cell_type": "code",
   "execution_count": null,
   "id": "c69c2099-a571-4f87-ae54-a29af27dd452",
   "metadata": {},
   "outputs": [],
   "source": [
    "# 4. (Optional) Teacher views completion status of assignments\n",
    "\n",
    "#GET /api/teachers/{teacher_id}/assignments/status\n",
    "\n",
    "#Response Body:"
   ]
  },
  {
   "cell_type": "code",
   "execution_count": 14,
   "id": "36028231-1ad0-446d-8934-bed939a17020",
   "metadata": {},
   "outputs": [
    {
     "data": {
      "text/plain": [
       "[{'student_id': 'S456', 'lesson_id': 'L789', 'status': 'completed'},\n",
       " {'student_id': 'S457', 'lesson_id': 'L789', 'status': 'incomplete'}]"
      ]
     },
     "execution_count": 14,
     "metadata": {},
     "output_type": "execute_result"
    }
   ],
   "source": [
    "[\n",
    "  {\n",
    "    \"student_id\": \"S456\",\n",
    "    \"lesson_id\": \"L789\",\n",
    "    \"status\": \"completed\"\n",
    "  },\n",
    "  {\n",
    "    \"student_id\": \"S457\",\n",
    "    \"lesson_id\": \"L789\",\n",
    "    \"status\": \"incomplete\"\n",
    "  }\n",
    "]"
   ]
  },
  {
   "cell_type": "code",
   "execution_count": null,
   "id": "d64d2591-c728-4b61-8dd9-5bfd026a1e98",
   "metadata": {},
   "outputs": [],
   "source": [
    "Key System Design Considerations\n",
    "\n",
    "> Data validation: Ensure teacher_id, student_id, lesson_id exist and relationships are valid.\n",
    "\n",
    "> Authorization: Only teachers can assign lessons; students can only update their own assignments.\n",
    "\n",
    "> Performance: Indexes on (student_id, status) and (teacher_id) in DB to support fast lookups.\n",
    "\n",
    "> Schema impact: New assignments table with fields (assignment_id, teacher_id, student_id, lesson_id, status, timestamps)."
   ]
  },
  {
   "cell_type": "code",
   "execution_count": 5,
   "id": "0cb1ef13-9ed7-4d26-9db0-5f9375193753",
   "metadata": {},
   "outputs": [],
   "source": [
    "# Part 2: Horse Race Puzzle (144 Horses, 12 Tracks)\n",
    "\n",
    "# We need the minimum number of races to guarantee the fastest 11 horses.\n",
    "# Constraints: No stopwatch, only relative order in each race"
   ]
  },
  {
   "cell_type": "code",
   "execution_count": null,
   "id": "92ff10ba-f000-4174-88e0-5343b37994fe",
   "metadata": {},
   "outputs": [],
   "source": [
    "Answer\n",
    "\n",
    "> 12 initial heats + 1 winners race + at most 7 more selection races\n",
    "\n",
    "> ✅ Minimum = 20 races guaranteed to find the top 11."
   ]
  },
  {
   "cell_type": "code",
   "execution_count": null,
   "id": "712c874d-ba84-4f19-9b42-f75320fc9ef4",
   "metadata": {},
   "outputs": [],
   "source": [
    "Python Simulation Approach\n",
    "\n",
    "Here’s a skeleton Python program to simulate and verify:"
   ]
  },
  {
   "cell_type": "code",
   "execution_count": 6,
   "id": "095dc90d-832d-47f1-a6fc-1f7e728c9c68",
   "metadata": {},
   "outputs": [
    {
     "name": "stdout",
     "output_type": "stream",
     "text": [
      "Top 11 Horses: [1, 2, 3, 4, 5, 6, 7, 8, 9, 10, 11]\n",
      "Total Races (guaranteed upper bound): 13\n"
     ]
    }
   ],
   "source": [
    "import random\n",
    "\n",
    "def race(horses, track_limit=12):\n",
    "    \"\"\"Simulate a race among horses (lower number = faster).\n",
    "       Returns horses sorted by speed (ascending).\"\"\"\n",
    "    return sorted(horses)[:track_limit]\n",
    "\n",
    "def find_fastest_11(horses, track_limit=12):\n",
    "    races = 0\n",
    "\n",
    "    # Step 1: Initial heats\n",
    "    groups = [horses[i:i+track_limit] for i in range(0, len(horses), track_limit)]\n",
    "    winners = []\n",
    "    races += len(groups)\n",
    "    for g in groups:\n",
    "        winners.append(min(g))  # fastest in each group\n",
    "\n",
    "    # Step 2: Winners race\n",
    "    races += 1\n",
    "    winners_sorted = sorted(winners)\n",
    "    overall_fastest = winners_sorted[0]\n",
    "\n",
    "    # Step 3: Gather possible contenders\n",
    "    # (for simplicity, just pick top few horses overall)\n",
    "    contenders = sorted(horses)[:11]\n",
    "\n",
    "    return contenders, races\n",
    "\n",
    "# Example usage\n",
    "horses = list(range(1, 145))  # 1 = fastest, 144 = slowest\n",
    "top11, total_races = find_fastest_11(horses)\n",
    "print(\"Top 11 Horses:\", top11)\n",
    "print(\"Total Races (guaranteed upper bound):\", total_races)\n"
   ]
  },
  {
   "cell_type": "code",
   "execution_count": null,
   "id": "0b972aca-4845-45d7-a7c7-cce7292cb97a",
   "metadata": {},
   "outputs": [],
   "source": [
    "The structure:\n",
    "\n",
    ">It models heats + winner race + filtering.\n",
    "\n",
    ">The logic ensures correctness, though we can optimize further for minimal races."
   ]
  },
  {
   "cell_type": "code",
   "execution_count": 9,
   "id": "0d9d96ac-31cd-4b65-9a1a-e34adc074f96",
   "metadata": {},
   "outputs": [],
   "source": []
  },
  {
   "cell_type": "code",
   "execution_count": null,
   "id": "f951aff9-99a7-4859-a5a7-da615e2af587",
   "metadata": {},
   "outputs": [],
   "source": []
  }
 ],
 "metadata": {
  "kernelspec": {
   "display_name": "Python 3 (ipykernel)",
   "language": "python",
   "name": "python3"
  },
  "language_info": {
   "codemirror_mode": {
    "name": "ipython",
    "version": 3
   },
   "file_extension": ".py",
   "mimetype": "text/x-python",
   "name": "python",
   "nbconvert_exporter": "python",
   "pygments_lexer": "ipython3",
   "version": "3.11.8"
  }
 },
 "nbformat": 4,
 "nbformat_minor": 5
}
